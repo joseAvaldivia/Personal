{
  "nbformat": 4,
  "nbformat_minor": 0,
  "metadata": {
    "colab": {
      "provenance": []
    },
    "kernelspec": {
      "name": "python3",
      "display_name": "Python 3"
    },
    "language_info": {
      "name": "python"
    }
  },
  "cells": [
    {
      "cell_type": "markdown",
      "source": [
        "\n",
        "BA interview process: Home test\n",
        "\n",
        "\n",
        "NAME: JOSE ARTURO VALDIVIA RIVERA\n",
        "CI: 8350080"
      ],
      "metadata": {
        "id": "jFOuCdtWxItu"
      }
    },
    {
      "cell_type": "markdown",
      "source": [
        "Part 1: Analysis of the state of the business."
      ],
      "metadata": {
        "id": "BseTutM2yTSU"
      }
    },
    {
      "cell_type": "markdown",
      "source": [],
      "metadata": {
        "id": "JG9EYtxRv0mI"
      }
    },
    {
      "cell_type": "markdown",
      "source": [
        "1. Factors Affecting Profitability and Key Analysis Areas:\n",
        "The profitability of the startup faces challenges from several key factors:\n",
        "\n",
        "•\tRising Delinquency Rates (DQ): The increasing DQ rates for both Contigo A (13.5%) and Contigo B (8%) directly translate to higher losses. These rates mean a larger proportion of loans won't be repaid in full, cutting into revenue.\n",
        "\n",
        "•\tAmbitious Growth Plans: While growth is positive, the aggressive expansion, especially for Contigo A (25% monthly), can strain resources and potentially lead to a higher influx of riskier borrowers, further exacerbating the DQ issue, Increasing credit risk.\n",
        "\n",
        "•\tCompetitive Market for Contigo B: The slower growth of Contigo B (10%\n",
        "monthly) due to market competition could limit revenue potential from this less risky loan segment.\n",
        "\n",
        "•\tOperational Costs: Although scalable, the 30 pesos per account operational cost can become substantial as the customer base grows rapidly, especially with a high proportion of Contigo A customers.\n",
        "\n",
        "**To analyze net income in the coming months, we should focus on:**\n",
        "\n",
        "•\tRevenue: Interest income from repaid loans, considering different interest rates and growth rates for Contigo A and B.\n",
        "\n",
        "•\tLosses: Amount of loan principal lost due to delinquencies, factored by DQ rates and loan values.\n",
        "\n",
        "•\tOperational Costs: Total cost calculated by multiplying the per-account cost by the total number of customers each month.\n",
        "\n",
        "•\tNet Income: Revenue minus losses and operational costs.\n",
        "\n",
        "•\tMarket and Regulation framework: We should be ready for any change in the regulation and trying to adapt quickly in order to maintain revenue levels and control credit risk potencial\n",
        "\n"
      ],
      "metadata": {
        "id": "DpXp8Tsvx-50"
      }
    },
    {
      "cell_type": "markdown",
      "source": [
        "2. Is this startup going to be profitable during the next 12 months? What are the major trends driving\n",
        "changes in net income? Suggestion: Provide a model for net income and forecast it for the next\n",
        "12 months. Hint: losses come from the total debt not being repaid, and revenue comes from\n",
        "collected interest. We will only consider operation costs as expenses."
      ],
      "metadata": {
        "id": "wt0Lk6I9zRuO"
      }
    },
    {
      "cell_type": "code",
      "source": [
        "\n",
        "import pandas as pd\n",
        "\n",
        "# Initial customer data\n",
        "data = {\n",
        "    'Month': [1],\n",
        "    'Contigo_A_Customers': [5000],\n",
        "    'Contigo_B_Customers': [10000]\n",
        "}\n",
        "\n",
        "# Create DataFrame\n",
        "df = pd.DataFrame(data)\n",
        "\n",
        "# Growth rates\n",
        "growth_A = 0.25\n",
        "growth_B = 0.10\n",
        "\n",
        "# Forecast customer base\n",
        "for month in range(2, 13):\n",
        "    df.loc[month - 1] = [\n",
        "        month,\n",
        "        int(df.iloc[month - 2]['Contigo_A_Customers'] * (1 + growth_A)),  # Compound growth\n",
        "        int(df.iloc[month - 2]['Contigo_B_Customers'] * (1 + growth_B))    # Compound growth\n",
        "    ]\n",
        "\n",
        "# Loan amounts and interest rates\n",
        "loan_A = 1000\n",
        "loan_B = 2000\n",
        "interest_A = 0.15\n",
        "interest_B = 0.10\n",
        "\n",
        "# Delinquency rates\n",
        "dq_A = 0.135\n",
        "dq_B = 0.08\n",
        "\n",
        "# Operating cost per account\n",
        "cost_per_account = 30\n",
        "\n",
        "# Calculate financials\n",
        "df['Revenue_A'] = (df['Contigo_A_Customers'] ) * loan_A * interest_A\n",
        "df['Revenue_B'] = (df['Contigo_B_Customers'] ) * loan_B * interest_B\n",
        "df['Losses_A'] = df['Contigo_A_Customers'] * dq_A * loan_A\n",
        "df['Losses_B'] = df['Contigo_B_Customers'] * dq_B * loan_B\n",
        "df['Expenses'] = (df['Contigo_A_Customers'] + df['Contigo_B_Customers']) * cost_per_account\n",
        "df['Net_Income'] = df['Revenue_A'] + df['Revenue_B'] - df['Losses_A'] - df['Losses_B'] - df['Expenses']\n",
        "\n",
        "print(df)"
      ],
      "metadata": {
        "colab": {
          "base_uri": "https://localhost:8080/"
        },
        "id": "oXDyv0FrxB4s",
        "outputId": "b199e556-931e-4d4f-84f6-a4eb9f82f8d8"
      },
      "execution_count": 6,
      "outputs": [
        {
          "output_type": "stream",
          "name": "stdout",
          "text": [
            "    Month  Contigo_A_Customers  Contigo_B_Customers  Revenue_A  Revenue_B  \\\n",
            "0       1                 5000                10000   750000.0  2000000.0   \n",
            "1       2                 6250                11000   937500.0  2200000.0   \n",
            "2       3                 7812                12100  1171800.0  2420000.0   \n",
            "3       4                 9765                13310  1464750.0  2662000.0   \n",
            "4       5                12206                14641  1830900.0  2928200.0   \n",
            "5       6                15257                16105  2288550.0  3221000.0   \n",
            "6       7                19071                17715  2860650.0  3543000.0   \n",
            "7       8                23838                19486  3575700.0  3897200.0   \n",
            "8       9                29797                21434  4469550.0  4286800.0   \n",
            "9      10                37246                23577  5586900.0  4715400.0   \n",
            "10     11                46557                25934  6983550.0  5186800.0   \n",
            "11     12                58196                28527  8729400.0  5705400.0   \n",
            "\n",
            "     Losses_A   Losses_B  Expenses  Net_Income  \n",
            "0    675000.0  1600000.0    450000     25000.0  \n",
            "1    843750.0  1760000.0    517500     16250.0  \n",
            "2   1054620.0  1936000.0    597360      3820.0  \n",
            "3   1318275.0  2129600.0    692250    -13375.0  \n",
            "4   1647810.0  2342560.0    805410    -36680.0  \n",
            "5   2059695.0  2576800.0    940860    -67805.0  \n",
            "6   2574585.0  2834400.0   1103580   -108915.0  \n",
            "7   3218130.0  3117760.0   1299720   -162710.0  \n",
            "8   4022595.0  3429440.0   1536930   -232615.0  \n",
            "9   5028210.0  3772320.0   1824690   -322920.0  \n",
            "10  6285195.0  4149440.0   2174730   -439015.0  \n",
            "11  7856460.0  4564320.0   2601690   -587670.0  \n"
          ]
        }
      ]
    },
    {
      "cell_type": "markdown",
      "source": [
        "3. What changes are required to sustain the business not only throughout the year but in the long\n",
        "run? Build a proposal of changes to main startup KPIs to achieve this goal. Discuss what\n",
        "difficulties the startup may find in applying your recommendation."
      ],
      "metadata": {
        "id": "5ZIhbXdj3jec"
      }
    },
    {
      "cell_type": "markdown",
      "source": [
        "Customer Segmentation and Risk Assessment Refinement: Develop more sophisticated models to better identify high-risk customers. This could involve using additional data points beyond just past delinquency.\n",
        "\n",
        "Dynamic Pricing: Adjust interest rates based on individual customer risk profiles. This could help offset losses from higher-risk borrowers.\n",
        "\n",
        "Operational Efficiency Improvements: Look for ways to reduce the operating cost per account.\n",
        "Product Diversification: Consider offering different loan products (e.g., longer-term loans) or additional financial services to diversify revenue streams and reduce reliance on a single product.\n",
        "\n",
        "Macroeconomics and Economy sectors: We could look to implement a new product with a larger loan amount focused on sectors with good performance: in my current bank we have special conditions for people working in the agricultural sector. We will need more information about the different sectors of the economy to have a model based on GDP and inflation, for example.\n",
        "\n",
        "Marketing and Retention Strategies: Invest in targeted marketing to attract lower-risk customers and implement retention programs to keep valuable customers.\n",
        "Difficulties in Implementation:\n",
        "\n",
        "Data Limitations: Implementing sophisticated risk models and dynamic pricing might require more data than the startup currently has.\n",
        "Competitive Pressure: Adjusting interest rates or loan terms might not be feasible in a highly competitive market.\n",
        "Operational Challenges: Reducing operating costs can be difficult without sacrificing service quality or customer acquisition.\n",
        "\n",
        "Invest: We should have a budget to invest to reduce the operative cost to have an account."
      ],
      "metadata": {
        "id": "WjCt9Wbh3gK9"
      }
    },
    {
      "cell_type": "markdown",
      "source": [
        "Part 2: Analysis of a collection strategy."
      ],
      "metadata": {
        "id": "rzCduKhTRAgE"
      }
    },
    {
      "cell_type": "code",
      "source": [
        "import pandas as pd\n",
        "\n",
        "pd.set_option('display.max_rows', None)\n",
        "pd.set_option('display.max_columns', None)\n",
        "\n",
        "# Read the CSV file into a DataFrame\n",
        "df_contactability_scores = pd.read_csv('/content/contactability_scores_(4)_(2).csv')\n",
        "\n",
        "# Display the first 5 rows\n",
        "print(df_contactability_scores.head().to_markdown(index=False, numalign=\"left\", stralign=\"left\"))\n",
        "\n",
        "# Print the column names and their data types\n",
        "print(df_contactability_scores.info())"
      ],
      "metadata": {
        "colab": {
          "base_uri": "https://localhost:8080/"
        },
        "id": "xftTB921RIID",
        "outputId": "78d7ee4a-15b3-4fc5-ae09-cc0b6c1b470a"
      },
      "execution_count": 13,
      "outputs": [
        {
          "output_type": "stream",
          "name": "stdout",
          "text": [
            "| customer_id   | contactability_score   | total_debt   | interest   |\n",
            "|:--------------|:-----------------------|:-------------|:-----------|\n",
            "| 1             | 0.293                  | 1000         | 150        |\n",
            "| 2             | 0.25                   | 1000         | 150        |\n",
            "| 3             | 0.033                  | 1000         | 150        |\n",
            "| 4             | 0.239                  | 1000         | 150        |\n",
            "| 5             | 0.681                  | 1000         | 150        |\n",
            "<class 'pandas.core.frame.DataFrame'>\n",
            "RangeIndex: 675 entries, 0 to 674\n",
            "Data columns (total 4 columns):\n",
            " #   Column                Non-Null Count  Dtype  \n",
            "---  ------                --------------  -----  \n",
            " 0   customer_id           675 non-null    int64  \n",
            " 1   contactability_score  675 non-null    float64\n",
            " 2   total_debt            675 non-null    int64  \n",
            " 3   interest              675 non-null    int64  \n",
            "dtypes: float64(1), int64(3)\n",
            "memory usage: 21.2 KB\n",
            "None\n"
          ]
        }
      ]
    },
    {
      "cell_type": "markdown",
      "source": [
        "Calculate the following KPIs:\n",
        "\n",
        "a. Recovered accounts: The number of delinquent accounts successfully recovered. This is calculated by multiplying the total number of delinquent customers by the probability of contacting them and the probability of them paying once contacted.\n",
        "\n",
        "b. Recovered total debt: The total amount of debt recovered from delinquent customers. This is calculated by multiplying the recovered accounts by the average total debt per customer.\n",
        "\n",
        "c. Revenue from collected interest: The interest earned from the recovered debt. This is calculated by multiplying the recovered accounts by the average interest per customer.\n",
        "\n",
        "d. Total campaign cost: The total cost of the campaign, which is the cost per call multiplied by the total number of delinquent customers.\n",
        "\n",
        "e. DQ losses from uncollected total debt: The total amount of debt that remains uncollected after the campaign. This is calculated by subtracting the recovered total debt from the total initial delinquent debt.\n",
        "\n",
        "f. Collections income: The net income from the collection campaign, calculated by subtracting the total campaign cost and the remaining DQ losses from the revenue from collected interest."
      ],
      "metadata": {
        "id": "W7u4dzw5Rv9y"
      }
    },
    {
      "cell_type": "markdown",
      "source": [
        "1. The probable results of the campaign, assuming it's launched to all 675 delinquent customers, are as follows:"
      ],
      "metadata": {
        "id": "Kc4bXCFxR1pq"
      }
    },
    {
      "cell_type": "code",
      "source": [
        "# Calculate expected recovery\n",
        "df_contactability_scores['expected_recovery'] =  df_contactability_scores['contactability_score'] * 0.75\n",
        "\n",
        "# Calculate recovered accounts by summing up all expected recoveries\n",
        "recovered_accounts = df_contactability_scores['expected_recovery'].sum()\n",
        "\n",
        "# Calculate recovered debt\n",
        "recovered_debt = (df_contactability_scores['expected_recovery'] * df_contactability_scores['total_debt']).sum()\n",
        "\n",
        "# Calculate recovered interest\n",
        "recovered_interest = (df_contactability_scores['expected_recovery'] * df_contactability_scores['interest']).sum()\n",
        "\n",
        "# Calculate total campaign cost\n",
        "total_campaign_cost = 675 * 30\n",
        "\n",
        "# Calculate uncollected debt\n",
        "uncollected_debt = df_contactability_scores['total_debt'].sum() - recovered_debt\n",
        "\n",
        "# Calculate DQ losses\n",
        "dq_losses = uncollected_debt * 0.1\n",
        "\n",
        "# Calculate collections income\n",
        "collections_income = recovered_interest - total_campaign_cost - dq_losses\n",
        "\n",
        "# Print the KPIs\n",
        "print(\"\\n KPIs of the campaign\")\n",
        "print(\"--------------------------\")\n",
        "print(f'Recovered accounts: {recovered_accounts:.0f}')\n",
        "print(f'Recovered debt: ${recovered_debt:.2f}')\n",
        "print(f'Recovered interest: ${recovered_interest:.2f}')\n",
        "print(f'Total campaign cost: ${total_campaign_cost:.2f}')\n",
        "print(f'DQ losses: ${dq_losses:.2f}')\n",
        "print(f'Collections income: ${collections_income:.2f}')"
      ],
      "metadata": {
        "colab": {
          "base_uri": "https://localhost:8080/"
        },
        "id": "YZpsPARuCDxz",
        "outputId": "92b15026-c383-4e6f-aefa-29586f4a50cc"
      },
      "execution_count": 14,
      "outputs": [
        {
          "output_type": "stream",
          "name": "stdout",
          "text": [
            "\n",
            " KPIs of the campaign\n",
            "--------------------------\n",
            "Recovered accounts: 212\n",
            "Recovered debt: $212024.25\n",
            "Recovered interest: $31803.64\n",
            "Total campaign cost: $20250.00\n",
            "DQ losses: $46297.58\n",
            "Collections income: $-34743.94\n"
          ]
        }
      ]
    },
    {
      "cell_type": "markdown",
      "source": [
        "2. What is the impact delivered on overall business performance by this campaign? To answer this\n",
        "question, we provide the results of month 1 without collections in the table below. Using the\n",
        "results from the previous question and the data coming from the table, provide a justification for\n",
        "applying or not this collection strategy."
      ],
      "metadata": {
        "id": "E-cDx6gnDKJE"
      }
    },
    {
      "cell_type": "code",
      "source": [
        "# Create a dictionary with baseline performance\n",
        "baseline_performance = {'Month': 1, 'Accounts': 5000, 'DQ accounts': 675,\n",
        "                        'Interest revenue': 648750.00, 'DQ losses': 675000.00,\n",
        "                        'Operative cost': 150000, 'Net income': -176250.00}\n",
        "\n",
        "# Create a list with campaign performance\n",
        "campaign_performance = [1, 5000, 675, recovered_interest, dq_losses,\n",
        "                        total_campaign_cost, collections_income]\n",
        "\n",
        "# Create a dataframe for comparison\n",
        "df_comparison = pd.DataFrame(columns=baseline_performance.keys())\n",
        "df_comparison.loc['Without collections'] = baseline_performance.values()\n",
        "df_comparison.loc['With collections'] = campaign_performance\n",
        "\n",
        "# Print the comparison dataframe\n",
        "print(df_comparison.to_markdown(index=True, numalign=\"left\", stralign=\"left\", floatfmt='.2f'))"
      ],
      "metadata": {
        "colab": {
          "base_uri": "https://localhost:8080/"
        },
        "id": "wb5qYmrW-lUv",
        "outputId": "1b82da13-1b69-4410-a613-163d99fca310"
      },
      "execution_count": 16,
      "outputs": [
        {
          "output_type": "stream",
          "name": "stdout",
          "text": [
            "|                     | Month   | Accounts   | DQ accounts   | Interest revenue   | DQ losses   | Operative cost   | Net income   |\n",
            "|:--------------------|:--------|:-----------|:--------------|:-------------------|:------------|:-----------------|:-------------|\n",
            "| Without collections | 1.00    | 5000.00    | 675.00        | 648750.00          | 675000.00   | 150000.00        | -176250.00   |\n",
            "| With collections    | 1.00    | 5000.00    | 675.00        | 31803.64           | 46297.58    | 20250.00         | -34743.94    |\n"
          ]
        }
      ]
    },
    {
      "cell_type": "markdown",
      "source": [
        "From this table, we can observe the following:\n",
        "\n",
        "DQ losses decrease significantly from $675,000 to $46,297.58, indicating a substantial reduction in losses due to delinquency\n",
        "\n",
        "Net income improves from -$176,250 to -$34,743.94, although it remains negative\n",
        "the first month\n",
        "However, there are also downsides:\n",
        "\n",
        "Interest revenue drops considerably from $648,750 to $31,803.64, likely because fewer accounts are in delinquency and accruing interest\n",
        "Overall, the campaign helps in reducing DQ losses, which is the primary goal given the high DQ rate of Contigo A customers. However, it comes at the cost of reduced interest revenue. The decision to implement this strategy depends on whether the reduction in DQ losses outweighs the decrease in interest revenue.\n",
        "\n",
        "If we do this example for a year or maybe many years its better to have a campain to reduce delinquency rates in the long run."
      ],
      "metadata": {
        "id": "3I2VxSY2JFTX"
      }
    },
    {
      "cell_type": "markdown",
      "source": [
        "3. Discuss some possible improvements to this campaign."
      ],
      "metadata": {
        "id": "kPjB8K2OSR1r"
      }
    },
    {
      "cell_type": "markdown",
      "source": [
        "Several strategies could be explored to improve the campaign's effectiveness and potentially make it profitable:\n",
        "\n",
        "Targeted Calling: Instead of calling all delinquent customers, focus on those with a higher contactability score and/or a higher outstanding debt. This would increase the chances of recovering more debt while reducing the overall campaign cost.\n",
        "\n",
        "Cost Reduction: Negotiate lower costs per call or explore alternative communication channels like SMS or email, which might be less expensive.\n",
        "Incentives: Offer discounts or other incentives to encourage early repayment, which could increase the recovery rate and reduce losses.\n",
        "\n",
        "Machine Learning Models: Develop more sophisticated models to predict not only contactability but also the likelihood of repayment after contact. This could help further refine the targeting strategy.\n",
        "\n",
        "Customer Segmentation: Analyze the characteristics of delinquent customers to identify different segments and tailor collection strategies accordingly.\n",
        "\n",
        "By implementing some of these improvements, the collection campaign could become a valuable tool for reducing delinquency rates and improving the overall profitability of the Contigo A product."
      ],
      "metadata": {
        "id": "ae8uEYMzSYEC"
      }
    }
  ]
}